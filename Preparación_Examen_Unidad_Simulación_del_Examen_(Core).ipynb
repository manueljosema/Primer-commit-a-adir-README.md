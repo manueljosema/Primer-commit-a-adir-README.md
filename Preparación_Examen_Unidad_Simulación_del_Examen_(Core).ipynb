{
  "nbformat": 4,
  "nbformat_minor": 0,
  "metadata": {
    "colab": {
      "provenance": []
    },
    "kernelspec": {
      "name": "python3",
      "display_name": "Python 3"
    },
    "language_info": {
      "name": "python"
    }
  },
  "cells": [
    {
      "cell_type": "code",
      "execution_count": 6,
      "metadata": {
        "colab": {
          "base_uri": "https://localhost:8080/"
        },
        "id": "AiMfnfwJ2ajw",
        "outputId": "dbd63b72-ffc0-4c88-8e6e-35515546191b"
      },
      "outputs": [
        {
          "output_type": "stream",
          "name": "stdout",
          "text": [
            "Datos generados y guardados en 'user_app_data.csv'\n"
          ]
        }
      ],
      "source": [
        "import pandas as pd\n",
        "import numpy as np\n",
        "import random\n",
        "import matplotlib.pyplot as plt\n",
        "import seaborn as sns\n",
        "\n",
        "# Configuramos la semilla para reproducibilidad\n",
        "np.random.seed(42)\n",
        "\n",
        "# Generamos los datos sintéticos\n",
        "user_id = range(1, 301)\n",
        "app_version = np.random.choice(['1.0', '1.1', '1.2', '1.3'], 300)\n",
        "platform = np.random.choice(['Android', 'iOS'], 300)\n",
        "session_duration = np.random.randint(1, 180, 300)\n",
        "number_of_sessions = np.random.randint(1, 20, 300)\n",
        "country = np.random.choice(['USA', 'Canada', 'Mexico', 'UK', 'Germany', 'France', 'Spain', 'Italy'], 300)\n",
        "user_feedback = np.random.randint(1, 6, 300)\n",
        "\n",
        "# Creamos el DataFrame\n",
        "data = pd.DataFrame({\n",
        "    'user_id': user_id,\n",
        "    'app_version': app_version,\n",
        "    'platform': platform,\n",
        "    'session_duration': session_duration,\n",
        "    'number_of_sessions': number_of_sessions,\n",
        "    'country': country,\n",
        "    'user_feedback': user_feedback\n",
        "})\n",
        "\n",
        "# Guardamos los datos en un archivo CSV\n",
        "data.to_csv('user_app_data.csv', index=False)\n",
        "print(\"Datos generados y guardados en 'user_app_data.csv'\")"
      ]
    },
    {
      "cell_type": "code",
      "source": [
        "data"
      ],
      "metadata": {
        "colab": {
          "base_uri": "https://localhost:8080/",
          "height": 444
        },
        "id": "R-q3K11H2usE",
        "outputId": "3063be62-900f-453c-c9aa-2174ebf75824"
      },
      "execution_count": 3,
      "outputs": [
        {
          "output_type": "execute_result",
          "data": {
            "text/plain": [
              "     user_id app_version platform  session_duration  number_of_sessions  \\\n",
              "0          1         1.2  Android               109                  11   \n",
              "1          2         1.3  Android               116                  17   \n",
              "2          3         1.0  Android                94                  13   \n",
              "3          4         1.2      iOS                47                   1   \n",
              "4          5         1.2      iOS                99                   2   \n",
              "..       ...         ...      ...               ...                 ...   \n",
              "295      296         1.3      iOS                33                   4   \n",
              "296      297         1.1  Android               118                   6   \n",
              "297      298         1.2  Android                65                   1   \n",
              "298      299         1.0      iOS               146                   5   \n",
              "299      300         1.3      iOS               177                   1   \n",
              "\n",
              "     country  user_feedback  \n",
              "0     France              1  \n",
              "1         UK              2  \n",
              "2     France              5  \n",
              "3     Canada              4  \n",
              "4     Canada              3  \n",
              "..       ...            ...  \n",
              "295       UK              1  \n",
              "296  Germany              2  \n",
              "297  Germany              5  \n",
              "298   France              5  \n",
              "299    Italy              3  \n",
              "\n",
              "[300 rows x 7 columns]"
            ],
            "text/html": [
              "\n",
              "  <div id=\"df-b81fad3b-2805-48a0-96ba-93ea5e2e3ed1\" class=\"colab-df-container\">\n",
              "    <div>\n",
              "<style scoped>\n",
              "    .dataframe tbody tr th:only-of-type {\n",
              "        vertical-align: middle;\n",
              "    }\n",
              "\n",
              "    .dataframe tbody tr th {\n",
              "        vertical-align: top;\n",
              "    }\n",
              "\n",
              "    .dataframe thead th {\n",
              "        text-align: right;\n",
              "    }\n",
              "</style>\n",
              "<table border=\"1\" class=\"dataframe\">\n",
              "  <thead>\n",
              "    <tr style=\"text-align: right;\">\n",
              "      <th></th>\n",
              "      <th>user_id</th>\n",
              "      <th>app_version</th>\n",
              "      <th>platform</th>\n",
              "      <th>session_duration</th>\n",
              "      <th>number_of_sessions</th>\n",
              "      <th>country</th>\n",
              "      <th>user_feedback</th>\n",
              "    </tr>\n",
              "  </thead>\n",
              "  <tbody>\n",
              "    <tr>\n",
              "      <th>0</th>\n",
              "      <td>1</td>\n",
              "      <td>1.2</td>\n",
              "      <td>Android</td>\n",
              "      <td>109</td>\n",
              "      <td>11</td>\n",
              "      <td>France</td>\n",
              "      <td>1</td>\n",
              "    </tr>\n",
              "    <tr>\n",
              "      <th>1</th>\n",
              "      <td>2</td>\n",
              "      <td>1.3</td>\n",
              "      <td>Android</td>\n",
              "      <td>116</td>\n",
              "      <td>17</td>\n",
              "      <td>UK</td>\n",
              "      <td>2</td>\n",
              "    </tr>\n",
              "    <tr>\n",
              "      <th>2</th>\n",
              "      <td>3</td>\n",
              "      <td>1.0</td>\n",
              "      <td>Android</td>\n",
              "      <td>94</td>\n",
              "      <td>13</td>\n",
              "      <td>France</td>\n",
              "      <td>5</td>\n",
              "    </tr>\n",
              "    <tr>\n",
              "      <th>3</th>\n",
              "      <td>4</td>\n",
              "      <td>1.2</td>\n",
              "      <td>iOS</td>\n",
              "      <td>47</td>\n",
              "      <td>1</td>\n",
              "      <td>Canada</td>\n",
              "      <td>4</td>\n",
              "    </tr>\n",
              "    <tr>\n",
              "      <th>4</th>\n",
              "      <td>5</td>\n",
              "      <td>1.2</td>\n",
              "      <td>iOS</td>\n",
              "      <td>99</td>\n",
              "      <td>2</td>\n",
              "      <td>Canada</td>\n",
              "      <td>3</td>\n",
              "    </tr>\n",
              "    <tr>\n",
              "      <th>...</th>\n",
              "      <td>...</td>\n",
              "      <td>...</td>\n",
              "      <td>...</td>\n",
              "      <td>...</td>\n",
              "      <td>...</td>\n",
              "      <td>...</td>\n",
              "      <td>...</td>\n",
              "    </tr>\n",
              "    <tr>\n",
              "      <th>295</th>\n",
              "      <td>296</td>\n",
              "      <td>1.3</td>\n",
              "      <td>iOS</td>\n",
              "      <td>33</td>\n",
              "      <td>4</td>\n",
              "      <td>UK</td>\n",
              "      <td>1</td>\n",
              "    </tr>\n",
              "    <tr>\n",
              "      <th>296</th>\n",
              "      <td>297</td>\n",
              "      <td>1.1</td>\n",
              "      <td>Android</td>\n",
              "      <td>118</td>\n",
              "      <td>6</td>\n",
              "      <td>Germany</td>\n",
              "      <td>2</td>\n",
              "    </tr>\n",
              "    <tr>\n",
              "      <th>297</th>\n",
              "      <td>298</td>\n",
              "      <td>1.2</td>\n",
              "      <td>Android</td>\n",
              "      <td>65</td>\n",
              "      <td>1</td>\n",
              "      <td>Germany</td>\n",
              "      <td>5</td>\n",
              "    </tr>\n",
              "    <tr>\n",
              "      <th>298</th>\n",
              "      <td>299</td>\n",
              "      <td>1.0</td>\n",
              "      <td>iOS</td>\n",
              "      <td>146</td>\n",
              "      <td>5</td>\n",
              "      <td>France</td>\n",
              "      <td>5</td>\n",
              "    </tr>\n",
              "    <tr>\n",
              "      <th>299</th>\n",
              "      <td>300</td>\n",
              "      <td>1.3</td>\n",
              "      <td>iOS</td>\n",
              "      <td>177</td>\n",
              "      <td>1</td>\n",
              "      <td>Italy</td>\n",
              "      <td>3</td>\n",
              "    </tr>\n",
              "  </tbody>\n",
              "</table>\n",
              "<p>300 rows × 7 columns</p>\n",
              "</div>\n",
              "    <div class=\"colab-df-buttons\">\n",
              "\n",
              "  <div class=\"colab-df-container\">\n",
              "    <button class=\"colab-df-convert\" onclick=\"convertToInteractive('df-b81fad3b-2805-48a0-96ba-93ea5e2e3ed1')\"\n",
              "            title=\"Convert this dataframe to an interactive table.\"\n",
              "            style=\"display:none;\">\n",
              "\n",
              "  <svg xmlns=\"http://www.w3.org/2000/svg\" height=\"24px\" viewBox=\"0 -960 960 960\">\n",
              "    <path d=\"M120-120v-720h720v720H120Zm60-500h600v-160H180v160Zm220 220h160v-160H400v160Zm0 220h160v-160H400v160ZM180-400h160v-160H180v160Zm440 0h160v-160H620v160ZM180-180h160v-160H180v160Zm440 0h160v-160H620v160Z\"/>\n",
              "  </svg>\n",
              "    </button>\n",
              "\n",
              "  <style>\n",
              "    .colab-df-container {\n",
              "      display:flex;\n",
              "      gap: 12px;\n",
              "    }\n",
              "\n",
              "    .colab-df-convert {\n",
              "      background-color: #E8F0FE;\n",
              "      border: none;\n",
              "      border-radius: 50%;\n",
              "      cursor: pointer;\n",
              "      display: none;\n",
              "      fill: #1967D2;\n",
              "      height: 32px;\n",
              "      padding: 0 0 0 0;\n",
              "      width: 32px;\n",
              "    }\n",
              "\n",
              "    .colab-df-convert:hover {\n",
              "      background-color: #E2EBFA;\n",
              "      box-shadow: 0px 1px 2px rgba(60, 64, 67, 0.3), 0px 1px 3px 1px rgba(60, 64, 67, 0.15);\n",
              "      fill: #174EA6;\n",
              "    }\n",
              "\n",
              "    .colab-df-buttons div {\n",
              "      margin-bottom: 4px;\n",
              "    }\n",
              "\n",
              "    [theme=dark] .colab-df-convert {\n",
              "      background-color: #3B4455;\n",
              "      fill: #D2E3FC;\n",
              "    }\n",
              "\n",
              "    [theme=dark] .colab-df-convert:hover {\n",
              "      background-color: #434B5C;\n",
              "      box-shadow: 0px 1px 3px 1px rgba(0, 0, 0, 0.15);\n",
              "      filter: drop-shadow(0px 1px 2px rgba(0, 0, 0, 0.3));\n",
              "      fill: #FFFFFF;\n",
              "    }\n",
              "  </style>\n",
              "\n",
              "    <script>\n",
              "      const buttonEl =\n",
              "        document.querySelector('#df-b81fad3b-2805-48a0-96ba-93ea5e2e3ed1 button.colab-df-convert');\n",
              "      buttonEl.style.display =\n",
              "        google.colab.kernel.accessAllowed ? 'block' : 'none';\n",
              "\n",
              "      async function convertToInteractive(key) {\n",
              "        const element = document.querySelector('#df-b81fad3b-2805-48a0-96ba-93ea5e2e3ed1');\n",
              "        const dataTable =\n",
              "          await google.colab.kernel.invokeFunction('convertToInteractive',\n",
              "                                                    [key], {});\n",
              "        if (!dataTable) return;\n",
              "\n",
              "        const docLinkHtml = 'Like what you see? Visit the ' +\n",
              "          '<a target=\"_blank\" href=https://colab.research.google.com/notebooks/data_table.ipynb>data table notebook</a>'\n",
              "          + ' to learn more about interactive tables.';\n",
              "        element.innerHTML = '';\n",
              "        dataTable['output_type'] = 'display_data';\n",
              "        await google.colab.output.renderOutput(dataTable, element);\n",
              "        const docLink = document.createElement('div');\n",
              "        docLink.innerHTML = docLinkHtml;\n",
              "        element.appendChild(docLink);\n",
              "      }\n",
              "    </script>\n",
              "  </div>\n",
              "\n",
              "\n",
              "<div id=\"df-1eea26a0-d441-4902-876c-cc0c3d6a6e76\">\n",
              "  <button class=\"colab-df-quickchart\" onclick=\"quickchart('df-1eea26a0-d441-4902-876c-cc0c3d6a6e76')\"\n",
              "            title=\"Suggest charts\"\n",
              "            style=\"display:none;\">\n",
              "\n",
              "<svg xmlns=\"http://www.w3.org/2000/svg\" height=\"24px\"viewBox=\"0 0 24 24\"\n",
              "     width=\"24px\">\n",
              "    <g>\n",
              "        <path d=\"M19 3H5c-1.1 0-2 .9-2 2v14c0 1.1.9 2 2 2h14c1.1 0 2-.9 2-2V5c0-1.1-.9-2-2-2zM9 17H7v-7h2v7zm4 0h-2V7h2v10zm4 0h-2v-4h2v4z\"/>\n",
              "    </g>\n",
              "</svg>\n",
              "  </button>\n",
              "\n",
              "<style>\n",
              "  .colab-df-quickchart {\n",
              "      --bg-color: #E8F0FE;\n",
              "      --fill-color: #1967D2;\n",
              "      --hover-bg-color: #E2EBFA;\n",
              "      --hover-fill-color: #174EA6;\n",
              "      --disabled-fill-color: #AAA;\n",
              "      --disabled-bg-color: #DDD;\n",
              "  }\n",
              "\n",
              "  [theme=dark] .colab-df-quickchart {\n",
              "      --bg-color: #3B4455;\n",
              "      --fill-color: #D2E3FC;\n",
              "      --hover-bg-color: #434B5C;\n",
              "      --hover-fill-color: #FFFFFF;\n",
              "      --disabled-bg-color: #3B4455;\n",
              "      --disabled-fill-color: #666;\n",
              "  }\n",
              "\n",
              "  .colab-df-quickchart {\n",
              "    background-color: var(--bg-color);\n",
              "    border: none;\n",
              "    border-radius: 50%;\n",
              "    cursor: pointer;\n",
              "    display: none;\n",
              "    fill: var(--fill-color);\n",
              "    height: 32px;\n",
              "    padding: 0;\n",
              "    width: 32px;\n",
              "  }\n",
              "\n",
              "  .colab-df-quickchart:hover {\n",
              "    background-color: var(--hover-bg-color);\n",
              "    box-shadow: 0 1px 2px rgba(60, 64, 67, 0.3), 0 1px 3px 1px rgba(60, 64, 67, 0.15);\n",
              "    fill: var(--button-hover-fill-color);\n",
              "  }\n",
              "\n",
              "  .colab-df-quickchart-complete:disabled,\n",
              "  .colab-df-quickchart-complete:disabled:hover {\n",
              "    background-color: var(--disabled-bg-color);\n",
              "    fill: var(--disabled-fill-color);\n",
              "    box-shadow: none;\n",
              "  }\n",
              "\n",
              "  .colab-df-spinner {\n",
              "    border: 2px solid var(--fill-color);\n",
              "    border-color: transparent;\n",
              "    border-bottom-color: var(--fill-color);\n",
              "    animation:\n",
              "      spin 1s steps(1) infinite;\n",
              "  }\n",
              "\n",
              "  @keyframes spin {\n",
              "    0% {\n",
              "      border-color: transparent;\n",
              "      border-bottom-color: var(--fill-color);\n",
              "      border-left-color: var(--fill-color);\n",
              "    }\n",
              "    20% {\n",
              "      border-color: transparent;\n",
              "      border-left-color: var(--fill-color);\n",
              "      border-top-color: var(--fill-color);\n",
              "    }\n",
              "    30% {\n",
              "      border-color: transparent;\n",
              "      border-left-color: var(--fill-color);\n",
              "      border-top-color: var(--fill-color);\n",
              "      border-right-color: var(--fill-color);\n",
              "    }\n",
              "    40% {\n",
              "      border-color: transparent;\n",
              "      border-right-color: var(--fill-color);\n",
              "      border-top-color: var(--fill-color);\n",
              "    }\n",
              "    60% {\n",
              "      border-color: transparent;\n",
              "      border-right-color: var(--fill-color);\n",
              "    }\n",
              "    80% {\n",
              "      border-color: transparent;\n",
              "      border-right-color: var(--fill-color);\n",
              "      border-bottom-color: var(--fill-color);\n",
              "    }\n",
              "    90% {\n",
              "      border-color: transparent;\n",
              "      border-bottom-color: var(--fill-color);\n",
              "    }\n",
              "  }\n",
              "</style>\n",
              "\n",
              "  <script>\n",
              "    async function quickchart(key) {\n",
              "      const quickchartButtonEl =\n",
              "        document.querySelector('#' + key + ' button');\n",
              "      quickchartButtonEl.disabled = true;  // To prevent multiple clicks.\n",
              "      quickchartButtonEl.classList.add('colab-df-spinner');\n",
              "      try {\n",
              "        const charts = await google.colab.kernel.invokeFunction(\n",
              "            'suggestCharts', [key], {});\n",
              "      } catch (error) {\n",
              "        console.error('Error during call to suggestCharts:', error);\n",
              "      }\n",
              "      quickchartButtonEl.classList.remove('colab-df-spinner');\n",
              "      quickchartButtonEl.classList.add('colab-df-quickchart-complete');\n",
              "    }\n",
              "    (() => {\n",
              "      let quickchartButtonEl =\n",
              "        document.querySelector('#df-1eea26a0-d441-4902-876c-cc0c3d6a6e76 button');\n",
              "      quickchartButtonEl.style.display =\n",
              "        google.colab.kernel.accessAllowed ? 'block' : 'none';\n",
              "    })();\n",
              "  </script>\n",
              "</div>\n",
              "\n",
              "  <div id=\"id_0644ae67-c164-4bd9-ade0-13af7c71c9a2\">\n",
              "    <style>\n",
              "      .colab-df-generate {\n",
              "        background-color: #E8F0FE;\n",
              "        border: none;\n",
              "        border-radius: 50%;\n",
              "        cursor: pointer;\n",
              "        display: none;\n",
              "        fill: #1967D2;\n",
              "        height: 32px;\n",
              "        padding: 0 0 0 0;\n",
              "        width: 32px;\n",
              "      }\n",
              "\n",
              "      .colab-df-generate:hover {\n",
              "        background-color: #E2EBFA;\n",
              "        box-shadow: 0px 1px 2px rgba(60, 64, 67, 0.3), 0px 1px 3px 1px rgba(60, 64, 67, 0.15);\n",
              "        fill: #174EA6;\n",
              "      }\n",
              "\n",
              "      [theme=dark] .colab-df-generate {\n",
              "        background-color: #3B4455;\n",
              "        fill: #D2E3FC;\n",
              "      }\n",
              "\n",
              "      [theme=dark] .colab-df-generate:hover {\n",
              "        background-color: #434B5C;\n",
              "        box-shadow: 0px 1px 3px 1px rgba(0, 0, 0, 0.15);\n",
              "        filter: drop-shadow(0px 1px 2px rgba(0, 0, 0, 0.3));\n",
              "        fill: #FFFFFF;\n",
              "      }\n",
              "    </style>\n",
              "    <button class=\"colab-df-generate\" onclick=\"generateWithVariable('data')\"\n",
              "            title=\"Generate code using this dataframe.\"\n",
              "            style=\"display:none;\">\n",
              "\n",
              "  <svg xmlns=\"http://www.w3.org/2000/svg\" height=\"24px\"viewBox=\"0 0 24 24\"\n",
              "       width=\"24px\">\n",
              "    <path d=\"M7,19H8.4L18.45,9,17,7.55,7,17.6ZM5,21V16.75L18.45,3.32a2,2,0,0,1,2.83,0l1.4,1.43a1.91,1.91,0,0,1,.58,1.4,1.91,1.91,0,0,1-.58,1.4L9.25,21ZM18.45,9,17,7.55Zm-12,3A5.31,5.31,0,0,0,4.9,8.1,5.31,5.31,0,0,0,1,6.5,5.31,5.31,0,0,0,4.9,4.9,5.31,5.31,0,0,0,6.5,1,5.31,5.31,0,0,0,8.1,4.9,5.31,5.31,0,0,0,12,6.5,5.46,5.46,0,0,0,6.5,12Z\"/>\n",
              "  </svg>\n",
              "    </button>\n",
              "    <script>\n",
              "      (() => {\n",
              "      const buttonEl =\n",
              "        document.querySelector('#id_0644ae67-c164-4bd9-ade0-13af7c71c9a2 button.colab-df-generate');\n",
              "      buttonEl.style.display =\n",
              "        google.colab.kernel.accessAllowed ? 'block' : 'none';\n",
              "\n",
              "      buttonEl.onclick = () => {\n",
              "        google.colab.notebook.generateWithVariable('data');\n",
              "      }\n",
              "      })();\n",
              "    </script>\n",
              "  </div>\n",
              "\n",
              "    </div>\n",
              "  </div>\n"
            ],
            "application/vnd.google.colaboratory.intrinsic+json": {
              "type": "dataframe",
              "variable_name": "data",
              "summary": "{\n  \"name\": \"data\",\n  \"rows\": 300,\n  \"fields\": [\n    {\n      \"column\": \"user_id\",\n      \"properties\": {\n        \"dtype\": \"number\",\n        \"std\": 86,\n        \"min\": 1,\n        \"max\": 300,\n        \"num_unique_values\": 300,\n        \"samples\": [\n          204,\n          267,\n          153\n        ],\n        \"semantic_type\": \"\",\n        \"description\": \"\"\n      }\n    },\n    {\n      \"column\": \"app_version\",\n      \"properties\": {\n        \"dtype\": \"category\",\n        \"num_unique_values\": 4,\n        \"samples\": [\n          \"1.3\",\n          \"1.1\",\n          \"1.2\"\n        ],\n        \"semantic_type\": \"\",\n        \"description\": \"\"\n      }\n    },\n    {\n      \"column\": \"platform\",\n      \"properties\": {\n        \"dtype\": \"category\",\n        \"num_unique_values\": 2,\n        \"samples\": [\n          \"iOS\",\n          \"Android\"\n        ],\n        \"semantic_type\": \"\",\n        \"description\": \"\"\n      }\n    },\n    {\n      \"column\": \"session_duration\",\n      \"properties\": {\n        \"dtype\": \"number\",\n        \"std\": 51,\n        \"min\": 1,\n        \"max\": 179,\n        \"num_unique_values\": 144,\n        \"samples\": [\n          45,\n          92\n        ],\n        \"semantic_type\": \"\",\n        \"description\": \"\"\n      }\n    },\n    {\n      \"column\": \"number_of_sessions\",\n      \"properties\": {\n        \"dtype\": \"number\",\n        \"std\": 5,\n        \"min\": 1,\n        \"max\": 19,\n        \"num_unique_values\": 19,\n        \"samples\": [\n          11,\n          9\n        ],\n        \"semantic_type\": \"\",\n        \"description\": \"\"\n      }\n    },\n    {\n      \"column\": \"country\",\n      \"properties\": {\n        \"dtype\": \"category\",\n        \"num_unique_values\": 8,\n        \"samples\": [\n          \"UK\",\n          \"USA\"\n        ],\n        \"semantic_type\": \"\",\n        \"description\": \"\"\n      }\n    },\n    {\n      \"column\": \"user_feedback\",\n      \"properties\": {\n        \"dtype\": \"number\",\n        \"std\": 1,\n        \"min\": 1,\n        \"max\": 5,\n        \"num_unique_values\": 5,\n        \"samples\": [\n          2,\n          3\n        ],\n        \"semantic_type\": \"\",\n        \"description\": \"\"\n      }\n    }\n  ]\n}"
            }
          },
          "metadata": {},
          "execution_count": 3
        }
      ]
    },
    {
      "cell_type": "code",
      "source": [],
      "metadata": {
        "colab": {
          "base_uri": "https://localhost:8080/"
        },
        "id": "2vFtVWsR3IZS",
        "outputId": "8371da1c-7044-4a07-b22b-f73d7f0db0a8"
      },
      "execution_count": 4,
      "outputs": [
        {
          "output_type": "stream",
          "name": "stdout",
          "text": [
            "No duplicate rows found.\n"
          ]
        }
      ]
    },
    {
      "cell_type": "markdown",
      "source": [
        "### 1) Limpieza de Datos:\n",
        "\n",
        "El primer paso en este proceso es usar Python para limpiar los datos y dejarlos listos para el análisis. Deben:\n",
        "\n",
        "* **Identificar y abordar cualquier valor duplicado**.\n",
        "* **Identificar y abordar cualquier dato que falte en este conjunto de datos.**\n",
        "* **Trátenlos de forma adecuada**. Incluyan una breve descripción en el método que usan para tratar con los valores que faltan junto con una justificación para el uso de ese método.\n",
        "* **Asegurarse de que todas las columnas coincidan con los tipos de datos enumerados en el diccionario de datos.**\n",
        "* **Identificar y abordar cualquier inconsistencia en los valores categóricos** (ejemplo: android, Android, ANDROID).\n",
        "* **Identificar y abordar cualquier punto de datos inapropiados o inusuales** (ejemplo: tiempo de uso de 10000 horas en una semana)."
      ],
      "metadata": {
        "id": "mImZA2Wy3R-5"
      }
    },
    {
      "cell_type": "code",
      "source": [
        "# Verificar duplicados basados en todas las columnas\n",
        "duplicates = data[data.duplicated()]\n",
        "\n",
        "# Si hay algún duplicado\n",
        "if not duplicates.empty:\n",
        "    print(\"Duplicate rows found:\")\n",
        "    print(duplicates)\n",
        "\n",
        "    # Opción 1: remueve duplicados\n",
        "    data_no_duplicates = data.drop_duplicates()\n",
        "    print(\"\\nDataframe after removing duplicates:\")\n",
        "    print(data_no_duplicates)\n",
        "\n",
        "    # Opción 2: Mantener las primeras apariciones de duplicados\n",
        "    data_keep_first = data.drop_duplicates(keep='first')\n",
        "    print(\"\\nDataframe after keeping first occurrences of duplicates:\")\n",
        "    print(data_keep_first)\n",
        "\n",
        "    # Opción 3: Mantener las últimas apariciones de duplicados\n",
        "    data_keep_last = data.drop_duplicates(keep='last')\n",
        "    print(\"\\nDataframe after keeping last occurrences of duplicates:\")\n",
        "    print(data_keep_last)\n",
        "else:\n",
        "    print(\"No duplicate rows found.\")"
      ],
      "metadata": {
        "colab": {
          "base_uri": "https://localhost:8080/"
        },
        "id": "1eIfhGAm3fC7",
        "outputId": "9255ded6-15ad-479e-e238-60ff6c747686"
      },
      "execution_count": 5,
      "outputs": [
        {
          "output_type": "stream",
          "name": "stdout",
          "text": [
            "No duplicate rows found.\n"
          ]
        }
      ]
    },
    {
      "cell_type": "code",
      "source": [
        "# Check for missing values in each column\n",
        "missing_values = data.isnull().sum()\n",
        "\n",
        "# Print the number of missing values in each column\n",
        "print(\"Missing values per column:\\n\", missing_values)"
      ],
      "metadata": {
        "colab": {
          "base_uri": "https://localhost:8080/"
        },
        "id": "edWh8-Fp36m6",
        "outputId": "da9c1930-5713-4863-e428-a871c58213d5"
      },
      "execution_count": 6,
      "outputs": [
        {
          "output_type": "stream",
          "name": "stdout",
          "text": [
            "Missing values per column:\n",
            " user_id               0\n",
            "app_version           0\n",
            "platform              0\n",
            "session_duration      0\n",
            "number_of_sessions    0\n",
            "country               0\n",
            "user_feedback         0\n",
            "dtype: int64\n"
          ]
        }
      ]
    },
    {
      "cell_type": "code",
      "source": [
        "data.info()"
      ],
      "metadata": {
        "colab": {
          "base_uri": "https://localhost:8080/"
        },
        "id": "tArC-h9pcppv",
        "outputId": "ac34dd4d-e1bb-4421-ba2b-d8db00f89d87"
      },
      "execution_count": 4,
      "outputs": [
        {
          "output_type": "stream",
          "name": "stdout",
          "text": [
            "<class 'pandas.core.frame.DataFrame'>\n",
            "RangeIndex: 300 entries, 0 to 299\n",
            "Data columns (total 7 columns):\n",
            " #   Column              Non-Null Count  Dtype \n",
            "---  ------              --------------  ----- \n",
            " 0   user_id             300 non-null    int64 \n",
            " 1   app_version         300 non-null    object\n",
            " 2   platform            300 non-null    object\n",
            " 3   session_duration    300 non-null    int64 \n",
            " 4   number_of_sessions  300 non-null    int64 \n",
            " 5   country             300 non-null    object\n",
            " 6   user_feedback       300 non-null    int64 \n",
            "dtypes: int64(4), object(3)\n",
            "memory usage: 16.5+ KB\n"
          ]
        }
      ]
    },
    {
      "cell_type": "code",
      "source": [
        "data_dictionary = {\n",
        "    'user_id': int,\n",
        "    'app_version': str,\n",
        "    'platform': str,\n",
        "    'session_duration': int,\n",
        "    'number_of_sessions': int,\n",
        "    'country': str,\n",
        "    'user_feedback': int\n",
        "}"
      ],
      "metadata": {
        "id": "RhCOPxQ1cmjV"
      },
      "execution_count": 5,
      "outputs": []
    },
    {
      "cell_type": "code",
      "source": [
        "# Check current data types\n",
        "current_data_types = data.dtypes\n",
        "\n",
        "# Compare with data dictionary and convert if needed\n",
        "for column, expected_type in data_dictionary.items():\n",
        "    if current_data_types[column] != expected_type:\n",
        "        data[column] = data[column].astype(expected_type)\n",
        "\n",
        "# Verify data types after conversion\n",
        "print(data.dtypes)"
      ],
      "metadata": {
        "colab": {
          "base_uri": "https://localhost:8080/"
        },
        "id": "Eae4iwLYGVan",
        "outputId": "b61af47b-69c8-4f62-b2e3-985bb7ba7f85"
      },
      "execution_count": 6,
      "outputs": [
        {
          "output_type": "stream",
          "name": "stdout",
          "text": [
            "user_id                int64\n",
            "app_version           object\n",
            "platform              object\n",
            "session_duration       int64\n",
            "number_of_sessions     int64\n",
            "country               object\n",
            "user_feedback          int64\n",
            "dtype: object\n"
          ]
        }
      ]
    },
    {
      "cell_type": "code",
      "source": [
        "# Buscar errores ortograficos\n",
        "print(data['platform'].unique())"
      ],
      "metadata": {
        "colab": {
          "base_uri": "https://localhost:8080/"
        },
        "id": "9iY8ZZWxdpm9",
        "outputId": "22281603-de40-4d2b-9165-b237d7e8c511"
      },
      "execution_count": 5,
      "outputs": [
        {
          "output_type": "stream",
          "name": "stdout",
          "text": [
            "['Android' 'iOS']\n"
          ]
        }
      ]
    },
    {
      "cell_type": "code",
      "source": [
        "## Identificar y abordar puntos de datos inapropiados o inusuales\n",
        "data = data[(data['session_duration'] <= 180) & (data['number_of_sessions'] <= 20)]\n",
        "print(data)\n"
      ],
      "metadata": {
        "colab": {
          "base_uri": "https://localhost:8080/"
        },
        "id": "AC_A2WV2OiUb",
        "outputId": "1b39751c-2ea2-44a1-93b0-a208e90c6340"
      },
      "execution_count": 14,
      "outputs": [
        {
          "output_type": "stream",
          "name": "stdout",
          "text": [
            "     user_id app_version platform  session_duration  number_of_sessions  \\\n",
            "0          1         1.2  Android               109                  11   \n",
            "1          2         1.3  Android               116                  17   \n",
            "2          3         1.0  Android                94                  13   \n",
            "3          4         1.2      Ios                47                   1   \n",
            "4          5         1.2      Ios                99                   2   \n",
            "..       ...         ...      ...               ...                 ...   \n",
            "295      296         1.3      Ios                33                   4   \n",
            "296      297         1.1  Android               118                   6   \n",
            "297      298         1.2  Android                65                   1   \n",
            "298      299         1.0      Ios               146                   5   \n",
            "299      300         1.3      Ios               177                   1   \n",
            "\n",
            "     country  user_feedback  \n",
            "0     France              1  \n",
            "1         Uk              2  \n",
            "2     France              5  \n",
            "3     Canada              4  \n",
            "4     Canada              3  \n",
            "..       ...            ...  \n",
            "295       Uk              1  \n",
            "296  Germany              2  \n",
            "297  Germany              5  \n",
            "298   France              5  \n",
            "299    Italy              3  \n",
            "\n",
            "[300 rows x 7 columns]\n"
          ]
        }
      ]
    },
    {
      "cell_type": "markdown",
      "source": [
        "### **2) Exploración de Datos:**\n",
        "\n",
        "El siguiente paso es completar una exploración de los datos usando Python. Esto debe incluir:\n",
        "\n",
        "* **Dos tipos diferentes de visualizaciones exploratorias univariantes.** Cada visualización debe incluir una breve interpretación dentro del archivo de código.\n",
        "* **Dos tipos diferentes de visualizaciones exploratorias multivariantes.** Cada visualización debe incluir una breve interpretación dentro del archivo de código."
      ],
      "metadata": {
        "id": "E_QROAObXJhB"
      }
    },
    {
      "cell_type": "code",
      "source": [
        "# Interpretación: La mayoría de los usuarios utilizan Android.\n",
        "\n",
        "## Visualizaciones multivariantes\n",
        "\n",
        "### Scatterplot de session_duration vs number_of_sessions\n",
        "plt.figure(figsize=(8,6))\n",
        "sns.scatterplot(x='number_of_sessions', y='session_duration', hue='platform', data=data)\n",
        "plt.title('Relación entre Duración de Sesión y Número de Sesiones')\n",
        "plt.xlabel('Número de Sesiones')\n",
        "plt.ylabel('Duración (minutos)')\n",
        "plt.legend(title='Plataforma')\n",
        "plt.show()\n",
        "# Interpretación: Existe una relación positiva entre la duración\n",
        "# de sesión y el número de sesiones."
      ],
      "metadata": {
        "colab": {
          "base_uri": "https://localhost:8080/",
          "height": 565
        },
        "id": "xuzeY3UVg4jU",
        "outputId": "2ea8336a-cbe3-4a46-e66a-993140e01546"
      },
      "execution_count": 18,
      "outputs": [
        {
          "output_type": "display_data",
          "data": {
            "text/plain": [
              "<Figure size 800x600 with 1 Axes>"
            ],
            "image/png": "[encoded data removed]"
          },
          "metadata": {}
        }
      ]
    },
    {
      "cell_type": "code",
      "source": [
        "### Heatmap de correlación\n",
        "corr = data[['session_duration', 'number_of_sessions', 'user_feedback']].corr()\n",
        "plt.figure(figsize=(8,6))\n",
        "sns.heatmap(corr, annot=True, cmap='coolwarm', square=True)\n",
        "plt.title('Matriz de Correlación')\n",
        "plt.show()\n",
        "\n",
        "# Interpretación: La duración de sesión y el número de\n",
        "# sesiones están positivamente correlacionados."
      ],
      "metadata": {
        "colab": {
          "base_uri": "https://localhost:8080/",
          "height": 545
        },
        "id": "2i6lENCIhNFD",
        "outputId": "f2e196bb-0492-4dc1-da44-764897f9696b"
      },
      "execution_count": 19,
      "outputs": [
        {
          "output_type": "display_data",
          "data": {
            "text/plain": [
              "<Figure size 800x600 with 2 Axes>"
            ],
            "image/png": "[encoded data removed]"
          },
          "metadata": {}
        }
      ]
    }
  ]
}