{
  "nbformat": 4,
  "nbformat_minor": 0,
  "metadata": {
    "colab": {
      "provenance": []
    },
    "kernelspec": {
      "name": "python3",
      "display_name": "Python 3"
    },
    "language_info": {
      "name": "python"
    }
  },
  "cells": [
    {
      "cell_type": "code",
      "source": [
        "import numpy as np\n",
        "\n",
        "# Aquí asumiré que ya tienes los datos en una variable llamada 'ventas'\n",
        "# ventas es un array 3D con la forma (productos, tiendas, días)\n",
        "# Ejemplo: ventas = np.random.randint(0, 100, (10, 5, 7))\n",
        "\n",
        "def generar_datos_ventas(productos, tiendas, dias):\n",
        "    return np.random.randint(0, 101, (productos, tiendas, dias))\n",
        "\n",
        "productos = 10\n",
        "tiendas = 5\n",
        "dias = 7\n",
        "\n",
        "# Genera los datos de ventas\n",
        "ventas = generar_datos_ventas(productos, tiendas, dias)\n",
        "\n",
        "# 1. Total de ventas por producto a lo largo de la semana\n",
        "ventas_por_producto = np.sum(ventas, axis=(1, 2))  # Sumamos sobre tiendas y días\n",
        "print(\"Total de ventas por producto a lo largo de la semana:\", ventas_por_producto)\n",
        "\n",
        "# 2. Total de ventas por tienda a lo largo de la semana\n",
        "ventas_por_tienda = np.sum(ventas, axis=(0, 2))  # Sumamos sobre productos y días\n",
        "print(\"Total de ventas por tienda a lo largo de la semana:\", ventas_por_tienda)\n",
        "\n",
        "# 3. Promedio de ventas por producto por día\n",
        "promedio_por_producto = np.mean(ventas, axis=(1, 2))  # Promedio sobre tiendas y días\n",
        "print(\"Promedio de ventas por producto por día:\", promedio_por_producto)\n",
        "\n",
        "# 4. Promedio de ventas por tienda por día\n",
        "promedio_por_tienda = np.mean(ventas, axis=(0, 2))  # Promedio sobre productos y días\n",
        "print(\"Promedio de ventas por tienda por día:\", promedio_por_tienda)\n",
        "\n",
        "# 5. Producto con mayor y menor ventas totales en la semana\n",
        "producto_max = np.argmax(ventas_por_producto)  # Índice del producto con mayores ventas\n",
        "producto_min = np.argmin(ventas_por_producto)  # Índice del producto con menores ventas\n",
        "print(f\"Producto con mayores ventas totales en la semana: {producto_max}\")\n",
        "print(f\"Producto con menores ventas totales en la semana: {producto_min}\")\n",
        "\n",
        "# 6. Tienda con mayor y menor ventas totales en la semana\n",
        "tienda_max = np.argmax(ventas_por_tienda)  # Índice de la tienda con mayores ventas\n",
        "tienda_min = np.argmin(ventas_por_tienda)  # Índice de la tienda con menores ventas\n",
        "print(f\"Tienda con mayores ventas totales en la semana: {tienda_max}\")\n",
        "print(f\"Tienda con menores ventas totales en la semana: {tienda_min}\")\n"
      ],
      "metadata": {
        "colab": {
          "base_uri": "https://localhost:8080/"
        },
        "id": "m-TKjKHtauL0",
        "outputId": "9e95f633-8e2b-4d1a-e096-939fbb888b0b"
      },
      "execution_count": 2,
      "outputs": [
        {
          "output_type": "stream",
          "name": "stdout",
          "text": [
            "Total de ventas por producto a lo largo de la semana: [1611 1841 1709 1855 1604 1818 1656 1877 1882 1597]\n",
            "Total de ventas por tienda a lo largo de la semana: [3131 3371 3692 3411 3845]\n",
            "Promedio de ventas por producto por día: [46.02857143 52.6        48.82857143 53.         45.82857143 51.94285714\n",
            " 47.31428571 53.62857143 53.77142857 45.62857143]\n",
            "Promedio de ventas por tienda por día: [44.72857143 48.15714286 52.74285714 48.72857143 54.92857143]\n",
            "Producto con mayores ventas totales en la semana: 8\n",
            "Producto con menores ventas totales en la semana: 9\n",
            "Tienda con mayores ventas totales en la semana: 4\n",
            "Tienda con menores ventas totales en la semana: 0\n"
          ]
        }
      ]
    }
  ]
}