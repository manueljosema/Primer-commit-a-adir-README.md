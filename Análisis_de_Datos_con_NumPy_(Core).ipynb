{
  "nbformat": 4,
  "nbformat_minor": 0,
  "metadata": {
    "colab": {
      "provenance": [],
      "authorship_tag": "ABX9TyMY08y1iCwLMnQCwQiuk0HZ",
      "include_colab_link": true
    },
    "kernelspec": {
      "name": "python3",
      "display_name": "Python 3"
    },
    "language_info": {
      "name": "python"
    }
  },
  "cells": [
    {
      "cell_type": "markdown",
      "metadata": {
        "id": "view-in-github",
        "colab_type": "text"
      },
      "source": [
        "<a href=\"https://colab.research.google.com/github/manueljosema/Primer-commit-a-adir-README.md/blob/main/An%C3%A1lisis_de_Datos_con_NumPy_(Core).ipynb\" target=\"_parent\"><img src=\"https://colab.research.google.com/assets/colab-badge.svg\" alt=\"Open In Colab\"/></a>"
      ]
    },
    {
      "cell_type": "code",
      "execution_count": 1,
      "metadata": {
        "colab": {
          "base_uri": "https://localhost:8080/"
        },
        "id": "gUOte7VwWUEp",
        "outputId": "a613aa64-47d7-4553-9e3c-70dff75de7c4"
      },
      "outputs": [
        {
          "output_type": "stream",
          "name": "stdout",
          "text": [
            "Total de ventas por producto a lo largo de la semana: [1600 1981 1616 2012 1360 1856 2185 1498 1896 1812]\n",
            "Total de ventas por tienda a lo largo de la semana: [3652 3398 3652 3618 3496]\n",
            "Promedio de ventas por producto por día: [45.71428571 56.6        46.17142857 57.48571429 38.85714286 53.02857143\n",
            " 62.42857143 42.8        54.17142857 51.77142857]\n",
            "Promedio de ventas por tienda por día: [52.17142857 48.54285714 52.17142857 51.68571429 49.94285714]\n",
            "Producto con mayor ventas: Producto 6\n",
            "Producto con menor ventas: Producto 4\n",
            "Tienda con mayor ventas: Tienda 0\n",
            "Tienda con menor ventas: Tienda 1\n"
          ]
        }
      ],
      "source": [
        "import numpy as np\n",
        "\n",
        "# Genera datos de ventas aleatorias para 10 productos, 5 tiendas y 7 días\n",
        "def generar_datos_ventas(productos, tiendas, dias):\n",
        "    return np.random.randint(0, 101, (productos, tiendas, dias))\n",
        "\n",
        "# Calcula el total de ventas por producto a lo largo de la semana\n",
        "def calcular_totales_ventas_por_producto(datos):\n",
        "    return np.sum(datos, axis=(1, 2))\n",
        "\n",
        "# Calcula el total de ventas por tienda a lo largo de la semana\n",
        "def calcular_totales_ventas_por_tienda(datos):\n",
        "    return np.sum(datos, axis=(0, 2))\n",
        "\n",
        "# Calcula el promedio de ventas por producto por día\n",
        "def calcular_promedio_ventas_por_producto(datos):\n",
        "    return np.mean(datos, axis=(1, 2))\n",
        "\n",
        "# Calcula el promedio de ventas por tienda por día\n",
        "def calcular_promedio_ventas_por_tienda(datos):\n",
        "    return np.mean(datos, axis=(0, 2))\n",
        "\n",
        "# Encuentra el producto con mayor y menor ventas totales en la semana\n",
        "def encontrar_producto_mayor_menor_ventas(totales_por_producto):\n",
        "    producto_mayor_ventas = np.argmax(totales_por_producto)\n",
        "    producto_menor_ventas = np.argmin(totales_por_producto)\n",
        "    return producto_mayor_ventas, producto_menor_ventas\n",
        "\n",
        "# Encuentra la tienda con mayor y menor ventas totales en la semana\n",
        "def encontrar_tienda_mayor_menor_ventas(totales_por_tienda):\n",
        "    tienda_mayor_ventas = np.argmax(totales_por_tienda)\n",
        "    tienda_menor_ventas = np.argmin(totales_por_tienda)\n",
        "    return tienda_mayor_ventas, tienda_menor_ventas\n",
        "\n",
        "# Parámetros\n",
        "productos = 10\n",
        "tiendas = 5\n",
        "dias = 7\n",
        "\n",
        "# Genera los datos de ventas\n",
        "datos = generar_datos_ventas(productos, tiendas, dias)\n",
        "\n",
        "# Calcula totales y promedios\n",
        "totales_por_producto = calcular_totales_ventas_por_producto(datos)\n",
        "totales_por_tienda = calcular_totales_ventas_por_tienda(datos)\n",
        "promedio_por_producto = calcular_promedio_ventas_por_producto(datos)\n",
        "promedio_por_tienda = calcular_promedio_ventas_por_tienda(datos)\n",
        "\n",
        "# Encuentra producto y tienda con mayor y menor ventas\n",
        "producto_mayor_ventas, producto_menor_ventas = encontrar_producto_mayor_menor_ventas(totales_por_producto)\n",
        "tienda_mayor_ventas, tienda_menor_ventas = encontrar_tienda_mayor_menor_ventas(totales_por_tienda)\n",
        "\n",
        "# Imprime los resultados\n",
        "print(\"Total de ventas por producto a lo largo de la semana:\", totales_por_producto)\n",
        "print(\"Total de ventas por tienda a lo largo de la semana:\", totales_por_tienda)\n",
        "print(\"Promedio de ventas por producto por día:\", promedio_por_producto)\n",
        "print(\"Promedio de ventas por tienda por día:\", promedio_por_tienda)\n",
        "print(f\"Producto con mayor ventas: Producto {producto_mayor_ventas}\")\n",
        "print(f\"Producto con menor ventas: Producto {producto_menor_ventas}\")\n",
        "print(f\"Tienda con mayor ventas: Tienda {tienda_mayor_ventas}\")\n",
        "print(f\"Tienda con menor ventas: Tienda {tienda_menor_ventas}\")\n"
      ]
    }
  ]
}